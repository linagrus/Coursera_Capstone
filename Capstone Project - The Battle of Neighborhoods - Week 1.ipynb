{
 "cells": [
  {
   "cell_type": "markdown",
   "metadata": {},
   "source": [
    "# Capstone Project - The Battle of Neighbourhoods\n",
    "\n",
    "## The problem and the background of this project\n",
    "\n",
    "The aim of this project is to find the best location in Central London to open a new Real Estate Office. London is a big and vibrant city, where lots of people dream to live in. Property in London could be very expensive, but there are many affluent people from all over the world looking to buy property either for personal use or as an investment. The real estate market moves fast and there are a number of real estate agencies, but we are planning to open an exclusive luxurious agency and we will try to find the best location for it based on property prices in the neighbourhood and the number of real estate agencies as we don't want an impression that our agency is just one of many.\n",
    "\n",
    "## Data and how it is going to be used to solve the problem\n",
    "\n",
    "The UK government openly shares Price Paid Data and it includes information on all property sales in England and Wales that are sold for value and are lodged for registration. This data could be donloaded from [here](https://www.gov.uk/government/statistical-data-sets/price-paid-data-downloads#march-2021-data-current-month). Data contains HM Land Registry data © Crown copyright and database right 2021. This data is licensed under the Open Government Licence v3.0. I am going to use property sales in 2020 to segment neighbourhoods in Central London (defined by post codes starting with EC or WC) based on property price to choose most luxurious areas.\n",
    "\n",
    "FreeMapTools provides a list of UK post codes and their geographical coordinates latitude and longitude. We are going to use them to plot neighbourhoods with sold properties on a map. This data could be found [here](https://www.freemaptools.com/download-uk-postcode-lat-lng.htm).\n",
    "\n",
    "Once I had the coordinates of each neighbourhood in Central London with some properties sold, I used a 1km radius from the centre point of each neighbourhood, defined by a postcode, to locate all Real Estate Offices nearby using FourSquare data.\n",
    "\n",
    "I then counted the number of real estate offices in each neighbourhood and average property price in each neighbourhood. A k-cluster analysis was done following that to find the best areas for the new real estate office targeting premium property sellers and buyers."
   ]
  }
 ],
 "metadata": {
  "kernelspec": {
   "display_name": "Python 3",
   "language": "python",
   "name": "python3"
  },
  "language_info": {
   "codemirror_mode": {
    "name": "ipython",
    "version": 3
   },
   "file_extension": ".py",
   "mimetype": "text/x-python",
   "name": "python",
   "nbconvert_exporter": "python",
   "pygments_lexer": "ipython3",
   "version": "3.8.5"
  }
 },
 "nbformat": 4,
 "nbformat_minor": 4
}
